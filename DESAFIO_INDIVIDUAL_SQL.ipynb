{
  "nbformat": 4,
  "nbformat_minor": 0,
  "metadata": {
    "colab": {
      "provenance": [],
      "authorship_tag": "ABX9TyM1KJYwtN8RIfc7Nbsis8IP",
      "include_colab_link": true
    },
    "kernelspec": {
      "name": "python3",
      "display_name": "Python 3"
    },
    "language_info": {
      "name": "python"
    }
  },
  "cells": [
    {
      "cell_type": "markdown",
      "metadata": {
        "id": "view-in-github",
        "colab_type": "text"
      },
      "source": [
        "<a href=\"https://colab.research.google.com/github/raianegoncalves/banco-de-dados/blob/main/DESAFIO_INDIVIDUAL_SQL.ipynb\" target=\"_parent\"><img src=\"https://colab.research.google.com/assets/colab-badge.svg\" alt=\"Open In Colab\"/></a>"
      ]
    },
    {
      "cell_type": "markdown",
      "source": [
        "**CARREGAR EXTENSÃO SQL PARA USAR**"
      ],
      "metadata": {
        "id": "YpSIEmea1-8c"
      }
    },
    {
      "cell_type": "code",
      "source": [
        "%load_ext sql"
      ],
      "metadata": {
        "id": "c7VVemR_116k"
      },
      "execution_count": 1,
      "outputs": []
    },
    {
      "cell_type": "markdown",
      "source": [
        "**CRIAR UM BANCO DE DADOS**"
      ],
      "metadata": {
        "id": "ZnI9PqMq2IfJ"
      }
    },
    {
      "cell_type": "code",
      "source": [
        "%%sql\n",
        "sqlite:///banco.db"
      ],
      "metadata": {
        "id": "Mrej16Hd17uK"
      },
      "execution_count": 16,
      "outputs": []
    },
    {
      "cell_type": "markdown",
      "source": [
        "**CRIAR TABELA ALUNOS**"
      ],
      "metadata": {
        "id": "rlV8YX9zBFM7"
      }
    },
    {
      "cell_type": "code",
      "source": [
        "%%sql\n",
        "CREATE TABLE nome(ID int, Nome Varchar(50), Idade int, Curso Varchar(50));"
      ],
      "metadata": {
        "colab": {
          "base_uri": "https://localhost:8080/"
        },
        "id": "vkxGEoGz1-VT",
        "outputId": "df1058c6-0e5b-46a3-9aa4-3212fe2ed24a"
      },
      "execution_count": 17,
      "outputs": [
        {
          "output_type": "stream",
          "name": "stdout",
          "text": [
            " * sqlite:///banco.db\n",
            "Done.\n"
          ]
        },
        {
          "output_type": "execute_result",
          "data": {
            "text/plain": [
              "[]"
            ]
          },
          "metadata": {},
          "execution_count": 17
        }
      ]
    },
    {
      "cell_type": "markdown",
      "source": [
        "INSERIR 5 REGISTROS NA TABELA **ALUNOS**"
      ],
      "metadata": {
        "id": "bbjRNpgcCN-4"
      }
    },
    {
      "cell_type": "code",
      "source": [
        "%%sql\n",
        "insert into nome (ID, Nome, Idade, Curso) values (1,'Guilherme Elias Bastos', 29,'Engenheiro(a) Civil');\n",
        "insert into nome (ID, Nome, Idade, Curso) values (2,'Raiane Cristiane Gonçalves', 28,'Engenheiro(a) Mecânica');\n",
        "insert into nome (ID, Nome, Idade, Curso) values (3,'Romana Marina', 19,'Médico(a) Pediatra');\n",
        "insert into nome (ID, Nome, Idade, Curso) values (4,'Raique de Andrade', 23,'Desenvolvedor(a)');\n",
        "insert into nome (ID, Nome, Idade, Curso) values (5,'Ricardo Gonçalves', 40,'Engenheiro(a) Produção');"
      ],
      "metadata": {
        "colab": {
          "base_uri": "https://localhost:8080/"
        },
        "id": "Ydz7lqBMBKK4",
        "outputId": "37191ea2-8e8c-4b52-a2d0-d7435e967d94"
      },
      "execution_count": 18,
      "outputs": [
        {
          "output_type": "stream",
          "name": "stdout",
          "text": [
            " * sqlite:///banco.db\n",
            "1 rows affected.\n",
            "1 rows affected.\n",
            "1 rows affected.\n",
            "1 rows affected.\n",
            "1 rows affected.\n"
          ]
        },
        {
          "output_type": "execute_result",
          "data": {
            "text/plain": [
              "[]"
            ]
          },
          "metadata": {},
          "execution_count": 18
        }
      ]
    },
    {
      "cell_type": "markdown",
      "source": [
        "ALTERAR O NOME DA **TABELA**"
      ],
      "metadata": {
        "id": "QGfQbZOmDAaD"
      }
    },
    {
      "cell_type": "code",
      "source": [
        "%%sql\n",
        "ALTER TABLE nome RENAME TO ALUNOS;"
      ],
      "metadata": {
        "colab": {
          "base_uri": "https://localhost:8080/"
        },
        "id": "gD5igkpiC_B3",
        "outputId": "ab3aec97-186f-4826-9126-bcec60ea3e9b"
      },
      "execution_count": 21,
      "outputs": [
        {
          "output_type": "stream",
          "name": "stdout",
          "text": [
            " * sqlite:///banco.db\n",
            "Done.\n"
          ]
        },
        {
          "output_type": "execute_result",
          "data": {
            "text/plain": [
              "[]"
            ]
          },
          "metadata": {},
          "execution_count": 21
        }
      ]
    },
    {
      "cell_type": "markdown",
      "source": [
        "**CONSULTAS:**\n",
        "  - SELECIONAR TODOS OS REGISTROS DA TABELA ALUNOS;\n",
        "  - SELECIONAR NOME E IDADE DOS ALUNOS COM MAIS DE 20 ANOS;\n",
        "  - SELECIONAR OS ALUNOS NO CURSO DE ENGENHARIA EM ORDEM ALFABÉTICA;\n",
        "  - CONTAR O NÚMERO TOTAL DE ALUNOS NA TABELA"
      ],
      "metadata": {
        "id": "nV_o5By1DMtR"
      }
    },
    {
      "cell_type": "code",
      "source": [
        "%%sql\n",
        "SELECT * FROM ALUNOS;"
      ],
      "metadata": {
        "colab": {
          "base_uri": "https://localhost:8080/",
          "height": 182
        },
        "id": "FxQBro-MDKkP",
        "outputId": "39fbf91b-d7cf-485f-e5c4-ee2e48ec6e58"
      },
      "execution_count": 22,
      "outputs": [
        {
          "output_type": "stream",
          "name": "stdout",
          "text": [
            " * sqlite:///banco.db\n",
            "Done.\n"
          ]
        },
        {
          "output_type": "execute_result",
          "data": {
            "text/plain": [
              "[(1, 'Guilherme Elias Bastos', 29, 'Engenheiro(a) Civil'),\n",
              " (2, 'Raiane Cristiane Gonçalves', 28, 'Engenheiro(a) Mecânica'),\n",
              " (3, 'Romana Marina', 19, 'Médico(a) Pediatra'),\n",
              " (4, 'Raique de Andrade', 23, 'Desenvolvedor(a)'),\n",
              " (5, 'Ricardo Gonçalves', 40, 'Engenheiro(a) Produção')]"
            ],
            "text/html": [
              "<table>\n",
              "    <thead>\n",
              "        <tr>\n",
              "            <th>ID</th>\n",
              "            <th>Nome</th>\n",
              "            <th>Idade</th>\n",
              "            <th>Curso</th>\n",
              "        </tr>\n",
              "    </thead>\n",
              "    <tbody>\n",
              "        <tr>\n",
              "            <td>1</td>\n",
              "            <td>Guilherme Elias Bastos</td>\n",
              "            <td>29</td>\n",
              "            <td>Engenheiro(a) Civil</td>\n",
              "        </tr>\n",
              "        <tr>\n",
              "            <td>2</td>\n",
              "            <td>Raiane Cristiane Gonçalves</td>\n",
              "            <td>28</td>\n",
              "            <td>Engenheiro(a) Mecânica</td>\n",
              "        </tr>\n",
              "        <tr>\n",
              "            <td>3</td>\n",
              "            <td>Romana Marina</td>\n",
              "            <td>19</td>\n",
              "            <td>Médico(a) Pediatra</td>\n",
              "        </tr>\n",
              "        <tr>\n",
              "            <td>4</td>\n",
              "            <td>Raique de Andrade</td>\n",
              "            <td>23</td>\n",
              "            <td>Desenvolvedor(a)</td>\n",
              "        </tr>\n",
              "        <tr>\n",
              "            <td>5</td>\n",
              "            <td>Ricardo Gonçalves</td>\n",
              "            <td>40</td>\n",
              "            <td>Engenheiro(a) Produção</td>\n",
              "        </tr>\n",
              "    </tbody>\n",
              "</table>"
            ]
          },
          "metadata": {},
          "execution_count": 22
        }
      ]
    },
    {
      "cell_type": "code",
      "source": [
        "%%sql\n",
        "SELECT Nome, Idade FROM ALUNOS WHERE Idade > 20;"
      ],
      "metadata": {
        "colab": {
          "base_uri": "https://localhost:8080/",
          "height": 161
        },
        "id": "sG46R3mGDmy8",
        "outputId": "916d20b2-e264-4ca9-aecb-97cb5b4ccec5"
      },
      "execution_count": 23,
      "outputs": [
        {
          "output_type": "stream",
          "name": "stdout",
          "text": [
            " * sqlite:///banco.db\n",
            "Done.\n"
          ]
        },
        {
          "output_type": "execute_result",
          "data": {
            "text/plain": [
              "[('Guilherme Elias Bastos', 29),\n",
              " ('Raiane Cristiane Gonçalves', 28),\n",
              " ('Raique de Andrade', 23),\n",
              " ('Ricardo Gonçalves', 40)]"
            ],
            "text/html": [
              "<table>\n",
              "    <thead>\n",
              "        <tr>\n",
              "            <th>Nome</th>\n",
              "            <th>Idade</th>\n",
              "        </tr>\n",
              "    </thead>\n",
              "    <tbody>\n",
              "        <tr>\n",
              "            <td>Guilherme Elias Bastos</td>\n",
              "            <td>29</td>\n",
              "        </tr>\n",
              "        <tr>\n",
              "            <td>Raiane Cristiane Gonçalves</td>\n",
              "            <td>28</td>\n",
              "        </tr>\n",
              "        <tr>\n",
              "            <td>Raique de Andrade</td>\n",
              "            <td>23</td>\n",
              "        </tr>\n",
              "        <tr>\n",
              "            <td>Ricardo Gonçalves</td>\n",
              "            <td>40</td>\n",
              "        </tr>\n",
              "    </tbody>\n",
              "</table>"
            ]
          },
          "metadata": {},
          "execution_count": 23
        }
      ]
    },
    {
      "cell_type": "code",
      "source": [
        "%%sql\n",
        "SELECT * FROM ALUNOS WHERE Curso LIKE '%Engenharia%' ORDER BY Nome;"
      ],
      "metadata": {
        "colab": {
          "base_uri": "https://localhost:8080/",
          "height": 75
        },
        "id": "0EWYNniSEBJF",
        "outputId": "180545de-6dfc-435c-aa96-5a44859784a4"
      },
      "execution_count": 24,
      "outputs": [
        {
          "output_type": "stream",
          "name": "stdout",
          "text": [
            " * sqlite:///banco.db\n",
            "Done.\n"
          ]
        },
        {
          "output_type": "execute_result",
          "data": {
            "text/plain": [
              "[]"
            ],
            "text/html": [
              "<table>\n",
              "    <thead>\n",
              "        <tr>\n",
              "            <th>ID</th>\n",
              "            <th>Nome</th>\n",
              "            <th>Idade</th>\n",
              "            <th>Curso</th>\n",
              "        </tr>\n",
              "    </thead>\n",
              "    <tbody>\n",
              "    </tbody>\n",
              "</table>"
            ]
          },
          "metadata": {},
          "execution_count": 24
        }
      ]
    },
    {
      "cell_type": "code",
      "source": [
        "%%sql\n",
        "SELECT COUNT(*) FROM ALUNOS;"
      ],
      "metadata": {
        "colab": {
          "base_uri": "https://localhost:8080/",
          "height": 96
        },
        "id": "tPAW3VdOEFYW",
        "outputId": "de049f0b-d05c-49da-f4e3-f7992769150d"
      },
      "execution_count": 25,
      "outputs": [
        {
          "output_type": "stream",
          "name": "stdout",
          "text": [
            " * sqlite:///banco.db\n",
            "Done.\n"
          ]
        },
        {
          "output_type": "execute_result",
          "data": {
            "text/plain": [
              "[(5,)]"
            ],
            "text/html": [
              "<table>\n",
              "    <thead>\n",
              "        <tr>\n",
              "            <th>COUNT(*)</th>\n",
              "        </tr>\n",
              "    </thead>\n",
              "    <tbody>\n",
              "        <tr>\n",
              "            <td>5</td>\n",
              "        </tr>\n",
              "    </tbody>\n",
              "</table>"
            ]
          },
          "metadata": {},
          "execution_count": 25
        }
      ]
    },
    {
      "cell_type": "markdown",
      "source": [
        "**ATUALIZAÇÃO E REMOÇÃO**\n",
        "  - ATUALIZE A IDADE DE UM ALUNO ESPECÍFICO NA TABELA;\n",
        "  - REMOVA UM ALUNO PELO SEU ID;"
      ],
      "metadata": {
        "id": "lt28lUG6IGov"
      }
    },
    {
      "cell_type": "code",
      "source": [
        "%%sql\n",
        "UPDATE ALUNOS SET Idade = 27 WHERE ID = 1;"
      ],
      "metadata": {
        "colab": {
          "base_uri": "https://localhost:8080/"
        },
        "id": "fD7mrqbXEIOn",
        "outputId": "43a87ece-9e95-4dfd-bfc7-033d6b905150"
      },
      "execution_count": 26,
      "outputs": [
        {
          "output_type": "stream",
          "name": "stdout",
          "text": [
            " * sqlite:///banco.db\n",
            "1 rows affected.\n"
          ]
        },
        {
          "output_type": "execute_result",
          "data": {
            "text/plain": [
              "[]"
            ]
          },
          "metadata": {},
          "execution_count": 26
        }
      ]
    },
    {
      "cell_type": "code",
      "source": [
        "%%sql\n",
        "DELETE FROM ALUNOS WHERE ID = 3;"
      ],
      "metadata": {
        "colab": {
          "base_uri": "https://localhost:8080/"
        },
        "id": "LTMtEu4jIwGd",
        "outputId": "89815d96-214e-4cf5-896d-a530e4ad6784"
      },
      "execution_count": 27,
      "outputs": [
        {
          "output_type": "stream",
          "name": "stdout",
          "text": [
            " * sqlite:///banco.db\n",
            "1 rows affected.\n"
          ]
        },
        {
          "output_type": "execute_result",
          "data": {
            "text/plain": [
              "[]"
            ]
          },
          "metadata": {},
          "execution_count": 27
        }
      ]
    },
    {
      "cell_type": "markdown",
      "source": [
        "**CRIAR UMA TABELA E INSERIR DADOS**"
      ],
      "metadata": {
        "id": "LouJveGFI5HP"
      }
    },
    {
      "cell_type": "code",
      "source": [
        "%%sql\n",
        "DROP TABLE IF EXISTS CLIENTES;\n",
        "CREATE TABLE CLIENTES (\n",
        "    ID INT PRIMARY KEY,\n",
        "    Nome VARCHAR(50),\n",
        "    Idade INT,\n",
        "    Saldo float\n",
        ");"
      ],
      "metadata": {
        "colab": {
          "base_uri": "https://localhost:8080/"
        },
        "id": "RPk7jYWNI1zS",
        "outputId": "4c542a5b-bb18-4b49-d4a6-9ca467abb5e4"
      },
      "execution_count": 29,
      "outputs": [
        {
          "output_type": "stream",
          "name": "stdout",
          "text": [
            " * sqlite:///banco.db\n",
            "Done.\n",
            "Done.\n"
          ]
        },
        {
          "output_type": "execute_result",
          "data": {
            "text/plain": [
              "[]"
            ]
          },
          "metadata": {},
          "execution_count": 29
        }
      ]
    },
    {
      "cell_type": "code",
      "source": [
        "%%sql\n",
        "INSERT INTO clientes (id, nome, idade, saldo) VALUES\n",
        "(1, 'Ana Silva', 30, 2500.75),\n",
        "(2, 'Carlos Pereira', 45, 3200.00),\n",
        "(3, 'Maria Oliveira', 28, 1800.50),\n",
        "(4, 'João Santos', 35, 2700.00);"
      ],
      "metadata": {
        "colab": {
          "base_uri": "https://localhost:8080/"
        },
        "id": "FDBCu4g8JaSZ",
        "outputId": "76c25c44-d51d-4537-e2c4-b1a19105dfef"
      },
      "execution_count": 30,
      "outputs": [
        {
          "output_type": "stream",
          "name": "stdout",
          "text": [
            " * sqlite:///banco.db\n",
            "4 rows affected.\n"
          ]
        },
        {
          "output_type": "execute_result",
          "data": {
            "text/plain": [
              "[]"
            ]
          },
          "metadata": {},
          "execution_count": 30
        }
      ]
    },
    {
      "cell_type": "markdown",
      "source": [
        "**CONSULTAS E FUNÇÕES AGREGADAS**\n",
        "  - SELECIONE O NOME E A IDADE DOS CLIENTES COM IDADE SUPERIOR A 30 ANOS;\n",
        "  - CALCULE O SALDO MÉDIO DOS CLIENTES;\n",
        "  - ENCONTRE O CLIENTE COM O SALDO MÁXIMO;\n",
        "  - CONTE QUANTOS CLIENTES TÊM SALDO ACIMA DE 100;"
      ],
      "metadata": {
        "id": "QSP7ofK-Kngg"
      }
    },
    {
      "cell_type": "code",
      "source": [
        "%%sql\n",
        "SELECT Nome, Idade FROM CLIENTES WHERE Idade > 30;"
      ],
      "metadata": {
        "colab": {
          "base_uri": "https://localhost:8080/",
          "height": 118
        },
        "id": "TC6JuAr5Kanl",
        "outputId": "b39ea109-dd79-410c-8142-465dce8cf6c8"
      },
      "execution_count": 33,
      "outputs": [
        {
          "output_type": "stream",
          "name": "stdout",
          "text": [
            " * sqlite:///banco.db\n",
            "Done.\n"
          ]
        },
        {
          "output_type": "execute_result",
          "data": {
            "text/plain": [
              "[('Carlos Pereira', 45), ('João Santos', 35)]"
            ],
            "text/html": [
              "<table>\n",
              "    <thead>\n",
              "        <tr>\n",
              "            <th>Nome</th>\n",
              "            <th>Idade</th>\n",
              "        </tr>\n",
              "    </thead>\n",
              "    <tbody>\n",
              "        <tr>\n",
              "            <td>Carlos Pereira</td>\n",
              "            <td>45</td>\n",
              "        </tr>\n",
              "        <tr>\n",
              "            <td>João Santos</td>\n",
              "            <td>35</td>\n",
              "        </tr>\n",
              "    </tbody>\n",
              "</table>"
            ]
          },
          "metadata": {},
          "execution_count": 33
        }
      ]
    },
    {
      "cell_type": "code",
      "source": [
        "%%sql\n",
        "SELECT AVG(Saldo) FROM CLIENTES;"
      ],
      "metadata": {
        "colab": {
          "base_uri": "https://localhost:8080/",
          "height": 96
        },
        "id": "wm2N_EfUK8MW",
        "outputId": "52b05617-0288-439c-a3ae-564e03b1e40a"
      },
      "execution_count": 34,
      "outputs": [
        {
          "output_type": "stream",
          "name": "stdout",
          "text": [
            " * sqlite:///banco.db\n",
            "Done.\n"
          ]
        },
        {
          "output_type": "execute_result",
          "data": {
            "text/plain": [
              "[(2550.3125,)]"
            ],
            "text/html": [
              "<table>\n",
              "    <thead>\n",
              "        <tr>\n",
              "            <th>AVG(Saldo)</th>\n",
              "        </tr>\n",
              "    </thead>\n",
              "    <tbody>\n",
              "        <tr>\n",
              "            <td>2550.3125</td>\n",
              "        </tr>\n",
              "    </tbody>\n",
              "</table>"
            ]
          },
          "metadata": {},
          "execution_count": 34
        }
      ]
    },
    {
      "cell_type": "code",
      "source": [
        "%%sql\n",
        "SELECT * FROM CLIENTES WHERE Saldo = (SELECT MAX(Saldo) FROM CLIENTES);"
      ],
      "metadata": {
        "colab": {
          "base_uri": "https://localhost:8080/",
          "height": 96
        },
        "id": "-svJk9G_K-yj",
        "outputId": "2329f5ba-e788-4517-cf34-edf865050dff"
      },
      "execution_count": 35,
      "outputs": [
        {
          "output_type": "stream",
          "name": "stdout",
          "text": [
            " * sqlite:///banco.db\n",
            "Done.\n"
          ]
        },
        {
          "output_type": "execute_result",
          "data": {
            "text/plain": [
              "[(2, 'Carlos Pereira', 45, 3200.0)]"
            ],
            "text/html": [
              "<table>\n",
              "    <thead>\n",
              "        <tr>\n",
              "            <th>ID</th>\n",
              "            <th>Nome</th>\n",
              "            <th>Idade</th>\n",
              "            <th>Saldo</th>\n",
              "        </tr>\n",
              "    </thead>\n",
              "    <tbody>\n",
              "        <tr>\n",
              "            <td>2</td>\n",
              "            <td>Carlos Pereira</td>\n",
              "            <td>45</td>\n",
              "            <td>3200.0</td>\n",
              "        </tr>\n",
              "    </tbody>\n",
              "</table>"
            ]
          },
          "metadata": {},
          "execution_count": 35
        }
      ]
    },
    {
      "cell_type": "code",
      "source": [
        "%%sql\n",
        "SELECT COUNT(*) FROM CLIENTES WHERE Saldo > 100;"
      ],
      "metadata": {
        "colab": {
          "base_uri": "https://localhost:8080/",
          "height": 96
        },
        "id": "ly9uAzS6LBvo",
        "outputId": "cd721f35-1586-4905-d9ae-3858f5eae60e"
      },
      "execution_count": 36,
      "outputs": [
        {
          "output_type": "stream",
          "name": "stdout",
          "text": [
            " * sqlite:///banco.db\n",
            "Done.\n"
          ]
        },
        {
          "output_type": "execute_result",
          "data": {
            "text/plain": [
              "[(4,)]"
            ],
            "text/html": [
              "<table>\n",
              "    <thead>\n",
              "        <tr>\n",
              "            <th>COUNT(*)</th>\n",
              "        </tr>\n",
              "    </thead>\n",
              "    <tbody>\n",
              "        <tr>\n",
              "            <td>4</td>\n",
              "        </tr>\n",
              "    </tbody>\n",
              "</table>"
            ]
          },
          "metadata": {},
          "execution_count": 36
        }
      ]
    },
    {
      "cell_type": "markdown",
      "source": [
        "**ATUALIZAÇÃO E REMOÇÃO COM CONDIÇÕES**\n",
        "  - ATUALIZE O SALDO DE UM CLIENTE ESPECÍFICO;\n",
        "  - REMOVA UM CLIENTE PELO SEU ID;"
      ],
      "metadata": {
        "id": "F8riuGA6LJwb"
      }
    },
    {
      "cell_type": "code",
      "source": [
        "%%sql\n",
        "UPDATE CLIENTES SET Saldo = 3000.00 WHERE ID = 2;"
      ],
      "metadata": {
        "colab": {
          "base_uri": "https://localhost:8080/"
        },
        "id": "5PacxSQWLIj9",
        "outputId": "62f886b0-bed8-455a-fef6-a9e58817c981"
      },
      "execution_count": 37,
      "outputs": [
        {
          "output_type": "stream",
          "name": "stdout",
          "text": [
            " * sqlite:///banco.db\n",
            "1 rows affected.\n"
          ]
        },
        {
          "output_type": "execute_result",
          "data": {
            "text/plain": [
              "[]"
            ]
          },
          "metadata": {},
          "execution_count": 37
        }
      ]
    },
    {
      "cell_type": "code",
      "source": [
        "%%sql\n",
        "DELETE FROM CLIENTES WHERE ID = 4;"
      ],
      "metadata": {
        "colab": {
          "base_uri": "https://localhost:8080/"
        },
        "id": "zSEIj3gJLOQg",
        "outputId": "8306af47-f356-4b27-d0ce-e7e8ee8be217"
      },
      "execution_count": 38,
      "outputs": [
        {
          "output_type": "stream",
          "name": "stdout",
          "text": [
            " * sqlite:///banco.db\n",
            "1 rows affected.\n"
          ]
        },
        {
          "output_type": "execute_result",
          "data": {
            "text/plain": [
              "[]"
            ]
          },
          "metadata": {},
          "execution_count": 38
        }
      ]
    },
    {
      "cell_type": "markdown",
      "source": [
        "**JUNÇÃO DE TABELAS:** Crie uma segunda tabela chamada \"compras\" com os campos: id\n",
        "(chave primária), cliente_id (chave estrangeira referenciando o id\n",
        "da tabela \"clientes\"), produto (texto) e valor (real). Insira algumas\n",
        "compras associadas a clientes existentes na tabela \"clientes\".\n",
        "Escreva uma consulta para exibir o nome do cliente, o produto e o\n",
        "valor de cada compra."
      ],
      "metadata": {
        "id": "6wWyVjbwLehV"
      }
    },
    {
      "cell_type": "code",
      "source": [
        "%%sql\n",
        "CREATE TABLE COMPRAS (\n",
        "    ID INT PRIMARY KEY,\n",
        "    Cliente_ID INT,\n",
        "    Produto VARCHAR(50),\n",
        "    Valor FLOAT,\n",
        "    FOREIGN KEY (Cliente_ID) REFERENCES CLIENTES(ID)\n",
        ");"
      ],
      "metadata": {
        "colab": {
          "base_uri": "https://localhost:8080/"
        },
        "id": "hr2o_CXcLdX7",
        "outputId": "839dc36d-6f05-4d6d-8181-38e6fcf95fc0"
      },
      "execution_count": 39,
      "outputs": [
        {
          "output_type": "stream",
          "name": "stdout",
          "text": [
            " * sqlite:///banco.db\n",
            "Done.\n"
          ]
        },
        {
          "output_type": "execute_result",
          "data": {
            "text/plain": [
              "[]"
            ]
          },
          "metadata": {},
          "execution_count": 39
        }
      ]
    },
    {
      "cell_type": "code",
      "source": [
        "%%sql\n",
        "INSERT INTO COMPRAS (ID, Cliente_ID, Produto, Valor) VALUES\n",
        "(1, 1, 'Laptop', 1500.00),\n",
        "(2, 2, 'Smartphone', 800.00),\n",
        "(3, 1, 'Headphones', 150.50),\n",
        "(4, 3, 'Mesa', 200.00),\n",
        "(5, 4, 'Cadeira', 120.00);\n"
      ],
      "metadata": {
        "colab": {
          "base_uri": "https://localhost:8080/"
        },
        "id": "gIOMir8eMOhv",
        "outputId": "40135748-0950-4f80-82fb-268f9c189eb4"
      },
      "execution_count": 40,
      "outputs": [
        {
          "output_type": "stream",
          "name": "stdout",
          "text": [
            " * sqlite:///banco.db\n",
            "5 rows affected.\n"
          ]
        },
        {
          "output_type": "execute_result",
          "data": {
            "text/plain": [
              "[]"
            ]
          },
          "metadata": {},
          "execution_count": 40
        }
      ]
    },
    {
      "cell_type": "markdown",
      "source": [
        "**Consulta para Exibir o Nome do Cliente, o Produto e o Valor de Cada Compra**"
      ],
      "metadata": {
        "id": "DJsX3dOSMiy5"
      }
    },
    {
      "cell_type": "code",
      "source": [
        "%%sql\n",
        "SELECT C.Nome, CO.Produto, CO.Valor\n",
        "FROM CLIENTES C\n",
        "JOIN COMPRAS CO ON C.ID = CO.Cliente_ID;"
      ],
      "metadata": {
        "colab": {
          "base_uri": "https://localhost:8080/",
          "height": 161
        },
        "id": "XHniqrMWMdAG",
        "outputId": "16661f45-aff8-4ff6-a433-2dbb09d489fe"
      },
      "execution_count": 42,
      "outputs": [
        {
          "output_type": "stream",
          "name": "stdout",
          "text": [
            " * sqlite:///banco.db\n",
            "Done.\n"
          ]
        },
        {
          "output_type": "execute_result",
          "data": {
            "text/plain": [
              "[('Ana Silva', 'Laptop', 1500.0),\n",
              " ('Carlos Pereira', 'Smartphone', 800.0),\n",
              " ('Ana Silva', 'Headphones', 150.5),\n",
              " ('Maria Oliveira', 'Mesa', 200.0)]"
            ],
            "text/html": [
              "<table>\n",
              "    <thead>\n",
              "        <tr>\n",
              "            <th>Nome</th>\n",
              "            <th>Produto</th>\n",
              "            <th>Valor</th>\n",
              "        </tr>\n",
              "    </thead>\n",
              "    <tbody>\n",
              "        <tr>\n",
              "            <td>Ana Silva</td>\n",
              "            <td>Laptop</td>\n",
              "            <td>1500.0</td>\n",
              "        </tr>\n",
              "        <tr>\n",
              "            <td>Carlos Pereira</td>\n",
              "            <td>Smartphone</td>\n",
              "            <td>800.0</td>\n",
              "        </tr>\n",
              "        <tr>\n",
              "            <td>Ana Silva</td>\n",
              "            <td>Headphones</td>\n",
              "            <td>150.5</td>\n",
              "        </tr>\n",
              "        <tr>\n",
              "            <td>Maria Oliveira</td>\n",
              "            <td>Mesa</td>\n",
              "            <td>200.0</td>\n",
              "        </tr>\n",
              "    </tbody>\n",
              "</table>"
            ]
          },
          "metadata": {},
          "execution_count": 42
        }
      ]
    }
  ]
}